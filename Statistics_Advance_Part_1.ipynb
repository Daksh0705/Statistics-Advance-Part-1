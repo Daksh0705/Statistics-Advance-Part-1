{
  "nbformat": 4,
  "nbformat_minor": 0,
  "metadata": {
    "colab": {
      "provenance": []
    },
    "kernelspec": {
      "name": "python3",
      "display_name": "Python 3"
    },
    "language_info": {
      "name": "python"
    }
  },
  "cells": [
    {
      "cell_type": "code",
      "execution_count": 1,
      "metadata": {
        "colab": {
          "base_uri": "https://localhost:8080/"
        },
        "id": "RSvHt3MQEM0H",
        "outputId": "8f235582-4a5c-404f-d05b-29174b0ad5c9"
      },
      "outputs": [
        {
          "output_type": "stream",
          "name": "stdout",
          "text": [
            "Random variable outcome: 4\n"
          ]
        }
      ],
      "source": [
        "#What is a random variable in probability theory?\n",
        "'''Ans-In probability theory, a random variable is a function that assigns numerical values to the outcomes of a random experiment.\n",
        "It provides a way to quantify uncertainty by mapping sample space outcomes to real numbers.\n",
        "Random variables are categorized as discrete (having a countable set of values, like rolling a die) or continuous (having an uncountable range of values,\n",
        "like measuring height). The behavior of a random variable is described by a probability distribution, such as a probability mass function (PMF) for discrete variables\n",
        "or a probability density function (PDF) for continuous ones'''\n",
        "#example\n",
        "# Discrete random variable (rolling a die)\n",
        "import random\n",
        "X = random.randint(1, 6)\n",
        "print(\"Random variable outcome:\", X)\n"
      ]
    },
    {
      "cell_type": "code",
      "source": [
        "#What are the types of random variables?\n",
        "'''Ans-Random variables are primarily classified into two types: discrete and continuous. A discrete random variable takes countable values (e.g., number of heads in coin tosses),\n",
        "while a continuous random variable takes values from an uncountable set, often intervals (e.g., height, weight). These types determine how probabilities are computed—using\n",
        "PMF for discrete and PDF for continuous random variables.'''\n",
        "#example\n",
        "import random\n",
        "\n",
        "# Discrete: dice roll\n",
        "discrete_var = random.randint(1, 6)\n",
        "\n",
        "# Continuous: height in meters\n",
        "continuous_var = random.uniform(1.5, 2.0)\n",
        "\n",
        "print(\"Discrete:\", discrete_var, \"| Continuous:\", round(continuous_var, 2))\n",
        "\n"
      ],
      "metadata": {
        "colab": {
          "base_uri": "https://localhost:8080/"
        },
        "id": "pX3dQ_sLFiqE",
        "outputId": "fcd08857-b446-4184-b6d9-50696f6a6a35"
      },
      "execution_count": 3,
      "outputs": [
        {
          "output_type": "stream",
          "name": "stdout",
          "text": [
            "Discrete: 2 | Continuous: 1.6\n"
          ]
        }
      ]
    },
    {
      "cell_type": "code",
      "source": [
        "#What is the difference between discrete and continuous distributions?\n",
        "'''Ans-A discrete distribution describes probabilities of outcomes of a discrete random variable (e.g., binomial, Poisson), while a continuous distribution handles continuous\n",
        "variables and uses probability density functions (e.g., normal, exponential). In discrete, the probability of a specific value can be non-zero, but in continuous,\n",
        "the probability of a single exact value is zero—instead, we compute the probability over intervals.'''\n",
        "#example\n",
        "from scipy.stats import binom, norm\n",
        "print(\"P(X=2) for Binomial:\", binom.pmf(2, n=5, p=0.5))\n",
        "print(\"P(0 ≤ X ≤ 1) for Normal:\", norm.cdf(1) - norm.cdf(0))\n"
      ],
      "metadata": {
        "colab": {
          "base_uri": "https://localhost:8080/"
        },
        "id": "CsDzkKQbGRyM",
        "outputId": "13f455d0-ef96-4276-f440-7ba832a57e89"
      },
      "execution_count": 4,
      "outputs": [
        {
          "output_type": "stream",
          "name": "stdout",
          "text": [
            "P(X=2) for Binomial: 0.31249999999999983\n",
            "P(0 ≤ X ≤ 1) for Normal: 0.3413447460685429\n"
          ]
        }
      ]
    },
    {
      "cell_type": "code",
      "source": [
        "#What are probability distribution functions (PDF)?\n",
        "'''Ans-A Probability Distribution Function (PDF) defines the likelihood of a continuous random variable falling within a range. It shows the relative likelihood for\n",
        "the variable to take on a given value. For continuous distributions, PDF values are used to calculate probabilities over intervals using integration.\n",
        "Note that PDF itself is not a probability but a density.'''\n",
        "#example\n",
        "from scipy.stats import norm\n",
        "x = 0\n",
        "print(\"PDF at x=0 for N(0,1):\", norm.pdf(x))\n"
      ],
      "metadata": {
        "colab": {
          "base_uri": "https://localhost:8080/"
        },
        "id": "pCo8dG6nGvXJ",
        "outputId": "ec97a46e-4d2c-45aa-975b-1adcedb79dfa"
      },
      "execution_count": 5,
      "outputs": [
        {
          "output_type": "stream",
          "name": "stdout",
          "text": [
            "PDF at x=0 for N(0,1): 0.3989422804014327\n"
          ]
        }
      ]
    },
    {
      "cell_type": "code",
      "source": [
        "#How do cumulative distribution functions (CDF) differ from probability distribution functions (PDF)?\n",
        "'''Ans-The CDF gives the probability that a random variable is less than or equal to a certain value, while the PDF (for continuous variables)\n",
        " or PMF (for discrete) gives the density or mass at a point. For continuous variables, CDF is the integral of the PDF up to that point.\n",
        " CDF is always non-decreasing and ranges from 0 to 1.'''\n",
        " #example\n",
        "%pip install scipy\n",
        "from scipy.stats import norm\n",
        "x = 1\n",
        "pdf_value = norm.pdf(x, loc=0, scale=1)  # Standard normal distribution\n",
        "cdf_value = norm.cdf(x, loc=0, scale=1)\n",
        "\n",
        "print(\"PDF at x=1:\", round(pdf_value, 4))  # Likelihood density at x\n",
        "print(\"CDF at x=1:\", round(cdf_value, 4))  # Probability X ≤ 1\n"
      ],
      "metadata": {
        "colab": {
          "base_uri": "https://localhost:8080/"
        },
        "id": "rUMZWG0RHLlo",
        "outputId": "60458138-d8cf-4d28-ed3a-640f6fdaee0f"
      },
      "execution_count": 8,
      "outputs": [
        {
          "output_type": "stream",
          "name": "stdout",
          "text": [
            "Requirement already satisfied: scipy in /usr/local/lib/python3.11/dist-packages (1.15.3)\n",
            "Requirement already satisfied: numpy<2.5,>=1.23.5 in /usr/local/lib/python3.11/dist-packages (from scipy) (2.0.2)\n",
            "PDF at x=1: 0.242\n",
            "CDF at x=1: 0.8413\n"
          ]
        }
      ]
    },
    {
      "cell_type": "code",
      "source": [
        "#What is a discrete uniform distribution?\n",
        "'''Ans-A discrete uniform distribution is a probability distribution where each of the n possible values has an equal chance of occurring.\n",
        "It applies when all outcomes are equally likely, such as rolling a fair die or selecting a random card from a shuffled deck. The probability of each outcome is 1/n.'''\n",
        "#example\n",
        "import random\n",
        "\n",
        "# Rolling a fair six-sided die\n",
        "outcomes = [1, 2, 3, 4, 5, 6]\n",
        "x = random.choice(outcomes)\n",
        "print(\"Random value from discrete uniform distribution:\", x)\n",
        "\n",
        "\n"
      ],
      "metadata": {
        "colab": {
          "base_uri": "https://localhost:8080/"
        },
        "id": "n7mSELl4Iu4x",
        "outputId": "7e45b47d-fdfc-4785-8a4c-6edfc228adef"
      },
      "execution_count": 9,
      "outputs": [
        {
          "output_type": "stream",
          "name": "stdout",
          "text": [
            "Random value from discrete uniform distribution: 1\n"
          ]
        }
      ]
    },
    {
      "cell_type": "code",
      "source": [
        "#What are the key properties of a Bernoulli distribution?\n",
        "'''Ans-A Bernoulli distribution models a single trial with two outcomes: success (1) with probability with the probability p and failure(0)\n",
        "with probability(1-p)It's the simplest discrete distribution and is the building block for binomial distribution. The mean is p and the variance is p(1-p).'''\n",
        "#example\n",
        "import numpy as np\n",
        "\n",
        "p = 0.7  # Probability of success\n",
        "x = np.random.binomial(1, p)\n",
        "print(\"Bernoulli trial outcome (0 or 1):\", x)\n"
      ],
      "metadata": {
        "colab": {
          "base_uri": "https://localhost:8080/"
        },
        "id": "e9LoNiwkKVn4",
        "outputId": "24219281-be12-42d2-d46e-a912b6da116d"
      },
      "execution_count": 10,
      "outputs": [
        {
          "output_type": "stream",
          "name": "stdout",
          "text": [
            "Bernoulli trial outcome (0 or 1): 1\n"
          ]
        }
      ]
    },
    {
      "cell_type": "code",
      "source": [
        "#What is the binomial distribution, and how is it used in probability?\n",
        "'''Ans-The binomial distribution models the number of successes in n independent Bernoulli trials, each with success probability p\n",
        "It’s widely used in scenarios like counting heads in coin flips. Its mean is np and variance is np(1-p).'''\n",
        "#example\n",
        "from scipy.stats import binom\n",
        "\n",
        "# Probability of exactly 3 successes in 5 trials with p = 0.5\n",
        "n, p, k = 5, 0.5, 3\n",
        "prob = binom.pmf(k, n, p)\n",
        "print(f\"P(X=3) for Binomial(5, 0.5): {prob:.4f}\")\n"
      ],
      "metadata": {
        "colab": {
          "base_uri": "https://localhost:8080/"
        },
        "id": "L7rqZoxwLNC9",
        "outputId": "e3592c09-af99-45f6-c5d7-952a9a2a2cf3"
      },
      "execution_count": 11,
      "outputs": [
        {
          "output_type": "stream",
          "name": "stdout",
          "text": [
            "P(X=3) for Binomial(5, 0.5): 0.3125\n"
          ]
        }
      ]
    },
    {
      "cell_type": "code",
      "source": [
        "# What is the Poisson distribution and where is it applied?\n",
        "'''Ans-The Poisson distribution models the number of times an event occurs in a fixed interval of time or space, given a known constant mean rate\n",
        "λ and independence between events. It’s used in modeling rare events like calls to a call center or decay of atoms.'''\n",
        "#example\n",
        "from scipy.stats import poisson\n",
        "\n",
        "# Probability of 2 events when λ = 3\n",
        "lambda_val = 3\n",
        "k = 2\n",
        "prob = poisson.pmf(k, mu=lambda_val)\n",
        "print(f\"P(X=2) when λ=3: {prob:.4f}\")\n"
      ],
      "metadata": {
        "colab": {
          "base_uri": "https://localhost:8080/"
        },
        "id": "jqw7E8ZpJFt1",
        "outputId": "11a6b312-0c40-4204-e073-0af5744e7d9f"
      },
      "execution_count": 12,
      "outputs": [
        {
          "output_type": "stream",
          "name": "stdout",
          "text": [
            "P(X=2) when λ=3: 0.2240\n"
          ]
        }
      ]
    },
    {
      "cell_type": "code",
      "source": [
        "#What is a continuous uniform distribution?\n",
        "'''Ans-A continuous uniform distribution has constant probability over a given interval\n",
        "[a,b], meaning any value in that interval is equally likely. Its PDF is 1/(b−a) for x in\n",
        "[a,b]. It's used in simulations and when no preference exists over an interval.'''\n",
        "#example\n",
        "from scipy.stats import uniform\n",
        "\n",
        "# PDF and CDF in interval [0, 1]\n",
        "x = 0.5\n",
        "pdf = uniform.pdf(x, loc=0, scale=1)\n",
        "cdf = uniform.cdf(x, loc=0, scale=1)\n",
        "print(f\"PDF at x=0.5: {pdf}, CDF at x=0.5: {cdf}\")\n"
      ],
      "metadata": {
        "colab": {
          "base_uri": "https://localhost:8080/"
        },
        "id": "Vf7Wp7P9MAQk",
        "outputId": "53afe334-4e21-402b-c891-3a909327c33e"
      },
      "execution_count": 13,
      "outputs": [
        {
          "output_type": "stream",
          "name": "stdout",
          "text": [
            "PDF at x=0.5: 1.0, CDF at x=0.5: 0.5\n"
          ]
        }
      ]
    },
    {
      "cell_type": "code",
      "source": [
        "#What are the characteristics of a normal distribution?\n",
        "'''Ans-A normal distribution is a symmetric, bell-shaped curve defined by its mean μ and standard deviation σ. Key properties\n",
        " include: 68% of data lies within 1σ, 95% within 2σ, and 99.7% within 3σ (empirical rule). It's foundational in statistics due to the Central Limit Theorem.'''\n",
        " #example\n",
        "# Import the required module\n",
        "import scipy.stats as stats\n",
        "\n",
        "# Define mean and standard deviation for the normal distribution\n",
        "mean = 0\n",
        "std_dev = 1\n",
        "\n",
        "# Value at which to evaluate PDF and CDF\n",
        "x = 1\n",
        "\n",
        "# Compute PDF and CDF\n",
        "pdf_value = stats.norm.pdf(x, loc=mean, scale=std_dev)\n",
        "cdf_value = stats.norm.cdf(x, loc=mean, scale=std_dev)\n",
        "\n",
        "# Print results\n",
        "print(\"PDF at x=1:\", round(pdf_value, 4))\n",
        "print(\"CDF at x=1:\", round(cdf_value, 4))\n",
        "\n"
      ],
      "metadata": {
        "colab": {
          "base_uri": "https://localhost:8080/"
        },
        "id": "CpxPBA_BMZPz",
        "outputId": "e086a9cf-efb3-4f3a-ccc1-fb7141814014"
      },
      "execution_count": 15,
      "outputs": [
        {
          "output_type": "stream",
          "name": "stdout",
          "text": [
            "PDF at x=1: 0.242\n",
            "CDF at x=1: 0.8413\n"
          ]
        }
      ]
    },
    {
      "cell_type": "code",
      "source": [
        "# What is the standard normal distribution, and why is it important?\n",
        "'''Ans-The standard normal distribution is a special case of the normal distribution with a mean of 0 and a standard deviation of 1.\n",
        " It's used as a reference to calculate probabilities and Z-scores, making statistical inference easier. Most statistical tables (Z-tables) are based on this distribution.'''\n",
        " #example\n",
        "# Importing the norm distribution from scipy.stats\n",
        "from scipy.stats import norm\n",
        "\n",
        "# Calculate cumulative probability for Z = 1.96\n",
        "z_value = 1.96\n",
        "cdf_result = norm.cdf(z_value, loc=0, scale=1)  # Standard normal: mean=0, std=1\n",
        "\n",
        "print(\"CDF of Z=1.96 (P(Z ≤ 1.96)):\", round(cdf_result, 4))\n",
        "\n"
      ],
      "metadata": {
        "colab": {
          "base_uri": "https://localhost:8080/"
        },
        "id": "SGHmHrKCNIxN",
        "outputId": "792f10e6-63a7-48c0-f2af-8db8426d2dde"
      },
      "execution_count": 20,
      "outputs": [
        {
          "output_type": "stream",
          "name": "stdout",
          "text": [
            "CDF of Z=1.96 (P(Z ≤ 1.96)): 0.975\n"
          ]
        }
      ]
    },
    {
      "cell_type": "code",
      "source": [
        "#What is the Central Limit Theorem (CLT), and why is it critical in statistics?\n",
        "'''Ans-The Central Limit Theorem states that the sampling distribution of the sample mean approaches a normal distribution as the sample size increases,\n",
        "regardless of the population’s distribution, provided the samples are independent and identically distributed.\n",
        " It’s critical because it allows us to use normal-based inference for means.'''\n",
        " #example\n",
        "import numpy as np\n",
        "import matplotlib.pyplot as plt\n",
        "\n",
        "# Generate many sample means from a non-normal distribution (exponential)\n",
        "sample_means = []\n",
        "for _ in range(1000):\n",
        "    sample = np.random.exponential(scale=2.0, size=50)  # non-normal population\n",
        "    sample_means.append(np.mean(sample))\n",
        "\n",
        "# Plot histogram of sample means\n",
        "plt.hist(sample_means, bins=30, density=True, color='skyblue', edgecolor='black')\n",
        "plt.title(\"Central Limit Theorem: Sampling Distribution of Means\")\n",
        "plt.xlabel(\"Sample Mean\")\n",
        "plt.ylabel(\"Frequency\")\n",
        "plt.grid(True)\n",
        "plt.show()"
      ],
      "metadata": {
        "colab": {
          "base_uri": "https://localhost:8080/",
          "height": 472
        },
        "id": "cpZHHOVAOJOX",
        "outputId": "327d605d-33a8-42e3-988a-6c4916926981"
      },
      "execution_count": 25,
      "outputs": [
        {
          "output_type": "display_data",
          "data": {
            "text/plain": [
              "<Figure size 640x480 with 1 Axes>"
            ],
            "image/png": "[encoded data removed]"
          },
          "metadata": {}
        }
      ]
    },
    {
      "cell_type": "code",
      "source": [
        "#How does the Central Limit Theorem relate to the normal distribution?\n",
        "'''Ans-The CLT explains why the normal distribution appears so frequently in statistics:\n",
        " it shows that the mean of any distribution becomes approximately normal as the sample size grows.\n",
        " This justifies using normal distribution for confidence intervals and hypothesis tests involving means.'''\n",
        "#example\n",
        "import numpy as np\n",
        "from scipy.stats import norm\n",
        "\n",
        "sample_means = [np.mean(np.random.poisson(3, size=50)) for _ in range(1000)]\n",
        "mean_est = np.mean(sample_means)\n",
        "std_est = np.std(sample_means)\n",
        "print(\"Sampling Mean ~ N({}, {})\".format(round(mean_est, 2), round(std_est, 2)))\n",
        "\n",
        "\n"
      ],
      "metadata": {
        "colab": {
          "base_uri": "https://localhost:8080/"
        },
        "id": "YdSOuyWLPAbj",
        "outputId": "ec6beea0-a050-4a35-db22-8b23725dc253"
      },
      "execution_count": 26,
      "outputs": [
        {
          "output_type": "stream",
          "name": "stdout",
          "text": [
            "Sampling Mean ~ N(3.01, 0.25)\n"
          ]
        }
      ]
    },
    {
      "cell_type": "code",
      "source": [
        "#What is the application of Z statistics in hypothesis testing?\n",
        "'''Ans-Z-statistics are used in hypothesis testing to determine how far a sample statistic is from the population mean in terms of standard deviations.\n",
        " When population variance is known and the sample is large, Z-tests help test population means or proportions against hypothesized values.'''\n",
        "#example\n",
        "# Z-test: H0: μ = 100, sample mean = 104, std = 10, n = 30\n",
        "sample_mean = 104\n",
        "mu = 100\n",
        "std = 10\n",
        "n = 30\n",
        "\n",
        "z = (sample_mean - mu) / (std / (n ** 0.5))\n",
        "print(\"Z-statistic:\", round(z, 2))\n"
      ],
      "metadata": {
        "colab": {
          "base_uri": "https://localhost:8080/"
        },
        "id": "4mmBWklpPVmL",
        "outputId": "f0f13132-a80f-4183-84c4-8a593b6e119e"
      },
      "execution_count": 27,
      "outputs": [
        {
          "output_type": "stream",
          "name": "stdout",
          "text": [
            "Z-statistic: 2.19\n"
          ]
        }
      ]
    },
    {
      "cell_type": "code",
      "source": [
        "#How do you calculate a Z-score, and what does it represent?\n",
        "'''Ans-A Z-score tells how many standard deviations a data point is from the mean. It’s calculated as:\n",
        "\n",
        "Z=x-μ/ σ\n",
        "Z-scores are used to compare values from different normal distributions or to identify outliers.'''\n",
        "#example\n",
        "X = 85\n",
        "mu = 70\n",
        "sigma = 10\n",
        "\n",
        "z = (X - mu) / sigma\n",
        "print(\"Z-score:\", round(z, 2))  # → 1.5 means 1.5 std deviations above mean\n"
      ],
      "metadata": {
        "colab": {
          "base_uri": "https://localhost:8080/"
        },
        "id": "YUlsu5SBPqwn",
        "outputId": "e5ef26d3-2b23-464b-93a9-98c901e78743"
      },
      "execution_count": 28,
      "outputs": [
        {
          "output_type": "stream",
          "name": "stdout",
          "text": [
            "Z-score: 1.5\n"
          ]
        }
      ]
    },
    {
      "cell_type": "code",
      "source": [
        "#What are point estimates and interval estimates in statistics?\n",
        "'''Ans-A point estimate gives a single value as an estimate of a population parameter (e.g., sample mean estimates population mean).\n",
        " An interval estimate gives a range of values (e.g., confidence interval) believed to contain the parameter with a certain confidence level (like 95%).'''\n",
        " #example\n",
        "\n",
        "import numpy as np\n",
        "import scipy.stats as stats\n",
        "\n",
        "data = np.array([10, 12, 13, 15, 18])\n",
        "point_estimate = np.mean(data)\n",
        "conf_interval = stats.t.interval(0.95, len(data)-1, loc=point_estimate, scale=stats.sem(data))\n",
        "\n",
        "print(\"Point Estimate (Mean):\", round(point_estimate, 2))\n",
        "print(\"95% Confidence Interval:\", conf_interval)\n"
      ],
      "metadata": {
        "colab": {
          "base_uri": "https://localhost:8080/"
        },
        "id": "d58byVdcQ8lA",
        "outputId": "5cba7e70-d196-4828-9f30-9ad2c9fac8fb"
      },
      "execution_count": 30,
      "outputs": [
        {
          "output_type": "stream",
          "name": "stdout",
          "text": [
            "Point Estimate (Mean): 13.6\n",
            "95% Confidence Interval: (np.float64(9.81343371836054), np.float64(17.38656628163946))\n"
          ]
        }
      ]
    },
    {
      "cell_type": "code",
      "source": [
        "# What is the significance of confidence intervals in statistical analysis?\n",
        "'''Ans-Confidence intervals (CI) provide a range that likely contains the true population parameter.\n",
        " A 95% CI means that 95 out of 100 such intervals will contain the parameter.\n",
        " CI expresses uncertainty and reliability of estimates, often used in reporting statistical findings.'''\n",
        " #example\n",
        "# Same example reused from Q17\n",
        "print(\"Confidence Interval Width:\", round(conf_interval[1] - conf_interval[0], 2))\n"
      ],
      "metadata": {
        "colab": {
          "base_uri": "https://localhost:8080/"
        },
        "id": "Y336E91BR2Ap",
        "outputId": "6a5e5eb6-7621-4e9c-ba04-9972427d6527"
      },
      "execution_count": 31,
      "outputs": [
        {
          "output_type": "stream",
          "name": "stdout",
          "text": [
            "Confidence Interval Width: 7.57\n"
          ]
        }
      ]
    },
    {
      "cell_type": "code",
      "source": [
        "#What is the relationship between a Z-score and a confidence interval?\n",
        "'''Ans-Z-scores define the boundaries of confidence intervals for normal distributions.\n",
        "For example, a 95% confidence interval uses Z ≈ ±1.96. The Z-score determines how many standard errors away from the mean the confidence interval extends.'''\n",
        "#example\n",
        "# Confidence interval for known standard deviation\n",
        "mean = 100\n",
        "std = 15\n",
        "n = 36\n",
        "z = 1.96  # for 95% CI\n",
        "\n",
        "margin = z * (std / (n ** 0.5))\n",
        "ci = (mean - margin, mean + margin)\n",
        "print(\"95% CI using Z-score:\", ci)\n"
      ],
      "metadata": {
        "colab": {
          "base_uri": "https://localhost:8080/"
        },
        "id": "dcASXlB2SPkv",
        "outputId": "7ecaf882-ff9e-4a82-9b10-bc906aea3966"
      },
      "execution_count": 32,
      "outputs": [
        {
          "output_type": "stream",
          "name": "stdout",
          "text": [
            "95% CI using Z-score: (95.1, 104.9)\n"
          ]
        }
      ]
    },
    {
      "cell_type": "code",
      "source": [
        "#How are Z-scores used to compare different distributions?\n",
        "'''Ans-Z-scores standardize values from different distributions, allowing comparisons on a common scale.\n",
        " This is useful when the variables have different units or means. A Z-score shows how extreme a value is relative to its distribution.'''\n",
        " #example\n",
        " # Compare scores from two tests with different scales\n",
        "math_score = 85; math_mean = 70; math_std = 10\n",
        "science_score = 180; science_mean = 150; science_std = 20\n",
        "\n",
        "z_math = (math_score - math_mean) / math_std\n",
        "z_sci = (science_score - science_mean) / science_std\n",
        "\n",
        "print(\"Z-score (Math):\", round(z_math, 2))\n",
        "print(\"Z-score (Science):\", round(z_sci, 2))\n"
      ],
      "metadata": {
        "colab": {
          "base_uri": "https://localhost:8080/"
        },
        "id": "C_csHgSRSdMB",
        "outputId": "50f1f72f-0fa3-4639-b1d6-ece2f85774a0"
      },
      "execution_count": 33,
      "outputs": [
        {
          "output_type": "stream",
          "name": "stdout",
          "text": [
            "Z-score (Math): 1.5\n",
            "Z-score (Science): 1.5\n"
          ]
        }
      ]
    },
    {
      "cell_type": "code",
      "source": [
        "#What are the assumptions for applying the Central Limit Theorem?\n",
        "'''Ans-To apply the CLT:\n",
        "\n",
        "Samples must be independent\n",
        "\n",
        "Samples must be identically distributed\n",
        "\n",
        "Sample size should be large enough (n ≥ 30 is a rule of thumb)\n",
        "\n",
        "The population should have finite mean and variance'''\n",
        "#example\n",
        "# Demonstrate normality of mean with sufficient sample size\n",
        "means = [np.mean(np.random.uniform(0, 10, size=50)) for _ in range(1000)]\n",
        "plt.hist(means, bins=30, color='lightgreen', edgecolor='black')\n",
        "plt.title(\"CLT with Uniform Distribution\")\n",
        "plt.show()\n"
      ],
      "metadata": {
        "colab": {
          "base_uri": "https://localhost:8080/",
          "height": 452
        },
        "id": "nkyRJjrvSvqf",
        "outputId": "b9d23aa6-2e25-4e4e-f523-968362fbe81b"
      },
      "execution_count": 34,
      "outputs": [
        {
          "output_type": "display_data",
          "data": {
            "text/plain": [
              "<Figure size 640x480 with 1 Axes>"
            ],
            "image/png": "[encoded data removed]"
          },
          "metadata": {}
        }
      ]
    },
    {
      "cell_type": "code",
      "source": [
        "#What is the concept of expected value in a probability distribution?\n",
        "'''Ans-The expected value (mean) is the average outcome of a random variable if the experiment is repeated many times. For discrete:\n",
        "E[X]=∑x⋅P(x)\n",
        "It represents the long-run average value of a random variable.'''\n",
        "#example\n",
        "# Expected value of rolling a fair six-sided die\n",
        "outcomes = [1, 2, 3, 4, 5, 6]\n",
        "probs = [1/6] * 6\n",
        "expected_value = sum(x * p for x, p in zip(outcomes, probs))\n",
        "print(\"Expected Value of die roll:\", expected_value)\n",
        "\n",
        "\n"
      ],
      "metadata": {
        "colab": {
          "base_uri": "https://localhost:8080/"
        },
        "id": "snmCVRqbTAFF",
        "outputId": "11c90d39-894d-4858-8af5-79b9d1d8d33e"
      },
      "execution_count": 35,
      "outputs": [
        {
          "output_type": "stream",
          "name": "stdout",
          "text": [
            "Expected Value of die roll: 3.5\n"
          ]
        }
      ]
    },
    {
      "cell_type": "code",
      "source": [
        "#How does a probability distribution relate to the expected outcome of a random variable?\n",
        "'''Ans-A probability distribution assigns probabilities to each outcome of a random variable,\n",
        "and the expected outcome is a weighted average of these outcomes using their probabilities.\n",
        " Thus, the distribution directly influences the expected value and variance.'''\n",
        " #example\n",
        " # Biased coin: P(Heads=1) = 0.7, P(Tails=0) = 0.3\n",
        "values = [0, 1]\n",
        "probs = [0.3, 0.7]\n",
        "expected_val = sum(x * p for x, p in zip(values, probs))\n",
        "print(\"Expected Value of biased coin:\", expected_val)\n"
      ],
      "metadata": {
        "colab": {
          "base_uri": "https://localhost:8080/"
        },
        "id": "7Xvg3ABHTQfd",
        "outputId": "9796faed-dcdc-4b2a-a4a3-9be229a0a2db"
      },
      "execution_count": 36,
      "outputs": [
        {
          "output_type": "stream",
          "name": "stdout",
          "text": [
            "Expected Value of biased coin: 0.7\n"
          ]
        }
      ]
    }
  ]
}